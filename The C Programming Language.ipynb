{
 "cells": [
  {
   "cell_type": "markdown",
   "id": "c2f1dc46",
   "metadata": {},
   "source": [
    "## Chapter 1"
   ]
  },
  {
   "cell_type": "markdown",
   "id": "8972722d",
   "metadata": {},
   "source": [
    "**Why does C integer division truncate the quotient, resulting in whole-number results?**\n",
    "\n",
    "Integer division ensures type consistency between operations and has higher performance than floating-point operations (namely division)."
   ]
  },
  {
   "cell_type": "markdown",
   "id": "cc6eed66",
   "metadata": {},
   "source": [
    "**Why do we use printf in situations where the output isn't formatted?**\n",
    "\n",
    "The `printf` function is more familiar for entry-level beginners, and in the case of basic string output (like `printf(\"Hello, World)`), negligibly different performance-wise from something like `puts`. Using the formatted string output makes it easier to change the implementation down the road, such as replacing some part of the string."
   ]
  },
  {
   "cell_type": "markdown",
   "id": "7e2aa667",
   "metadata": {},
   "source": [
    "**How does the program know what type symbolic constants are?**\n",
    "\n",
    "The program interprets symbolic constants as a given type based on the literal value (such as observing a lack of decimal points or suffixes to indicate a number value may be an integer) and their usage in the code.\n",
    "\n",
    "This operation occurs at the preprocessor directive processing."
   ]
  },
  {
   "cell_type": "markdown",
   "id": "fdf960d5",
   "metadata": {},
   "source": [
    "**What does it mean that an assignment is also an expression?**\n",
    "\n",
    "In C, an assignment can be used as an expression because the assignment is effectively a symbolic mask for the value the assignment evaluates as. For example, `a = b = 5;` is valid because `b = 5;` evaluates as 5 and `a = 5;` is a valid expression. \n",
    "\n",
    "This property's usefulness comes into play in situations like `while((c = getchar()) != EOF)` because it performs the assignment to `c` while also checking if the value from `getchar()` (and thus `c`, following the assignment) is not equal to `EOF`. "
   ]
  },
  {
   "cell_type": "markdown",
   "id": "6c2a9aac",
   "metadata": {},
   "source": [
    "**Does C have a built-in \"foreach\" style loop?**\n",
    "\n",
    "No. \"Foreach\" style loops are typically seen in higher-level languages, but not in C."
   ]
  },
  {
   "cell_type": "markdown",
   "id": "6ad96b54",
   "metadata": {},
   "source": [
    "**How do function prototypes in C relate to mechanics in other languages to enable calling functions above their formal definition?**\n",
    "\n",
    "Most languages don't use function prototypes, but instead rely on function declarations before their implementations."
   ]
  },
  {
   "cell_type": "markdown",
   "id": "17b8beac",
   "metadata": {},
   "source": [
    "**Arguments being call by value means that passing a variable into a function as an argument doesn't change that variable by default. When does it make sense to use this functionality and when does it make more sense to use addresses/pointers?**\n",
    "\n",
    "Like many other things in C, the decision to call by value or call by reference ties back to memory and performance optimization. Call by value are suitable for working with primitive data types, while call by value makes more sense with larger, more complex data structures. Functionally, call by value enables immutable operations while call by reference gives a way to edit data and return multiple data types in one go. "
   ]
  },
  {
   "cell_type": "code",
   "execution_count": null,
   "id": "9b2548e7",
   "metadata": {},
   "outputs": [],
   "source": []
  }
 ],
 "metadata": {
  "kernelspec": {
   "display_name": "Python 3 (ipykernel)",
   "language": "python",
   "name": "python3"
  },
  "language_info": {
   "codemirror_mode": {
    "name": "ipython",
    "version": 3
   },
   "file_extension": ".py",
   "mimetype": "text/x-python",
   "name": "python",
   "nbconvert_exporter": "python",
   "pygments_lexer": "ipython3",
   "version": "3.9.12"
  }
 },
 "nbformat": 4,
 "nbformat_minor": 5
}
